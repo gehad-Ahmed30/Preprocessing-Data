{
 "cells": [
  {
   "cell_type": "markdown",
   "metadata": {},
   "source": [
    "# Pandas : Data Preprocessing\n",
    "- Also check : Pyspark, Dask, Mito, Polars, YoloPandas, PandasAI, pandas-profiling, vanna"
   ]
  },
  {
   "cell_type": "markdown",
   "metadata": {},
   "source": [
    "## Data Scientist\n",
    "- 1) Server : read/access data from server\n",
    "- 2) Local : access file through network, direct access"
   ]
  },
  {
   "cell_type": "markdown",
   "metadata": {},
   "source": [
    "**data could be of different types:** <br>\n",
    "- Sql Database         \n",
    "- Oracle Database           \n",
    "- Mongodb ( json objects )           \n",
    "- Firebase                \n",
    "- txt            \n",
    "- log file          \n",
    "- pdf            \n",
    "- word          \n",
    "- xls, xlsx                                          \n",
    "- csv ( comma seperated values ==> Ahmed, Mohamed, Ali)      \n",
    "- json ( javascript object notation )             \n",
    "- Live data"
   ]
  }
 ],
 "metadata": {
  "language_info": {
   "name": "python"
  }
 },
 "nbformat": 4,
 "nbformat_minor": 2
}
